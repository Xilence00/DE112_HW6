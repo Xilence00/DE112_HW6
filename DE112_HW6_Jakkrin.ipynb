{
  "nbformat": 4,
  "nbformat_minor": 0,
  "metadata": {
    "colab": {
      "provenance": []
    },
    "kernelspec": {
      "name": "python3",
      "display_name": "Python 3"
    },
    "language_info": {
      "name": "python"
    }
  },
  "cells": [
    {
      "cell_type": "markdown",
      "source": [
        "# Homework:\n",
        "1. Write a Python program to prompt user to enter the list of number and  \n",
        "seperate that list into two list, one is the list with items greater than 10 and another one is the list with items less than or equal to 10 using a for-loop.\n",
        "```\n",
        "Input list: 14, -13, 0, 45, -13, 3, -5\n",
        "First list: 14, 45\n",
        "Scond list: -13, 0, -13, 3, -5\n",
        "```\n",
        "\n"
      ],
      "metadata": {
        "id": "TOpKvBfreI4L"
      }
    },
    {
      "cell_type": "code",
      "metadata": {
        "id": "xx0atQszCl6m",
        "colab": {
          "base_uri": "https://localhost:8080/"
        },
        "outputId": "3f222b5f-23b8-4e95-80c0-bf8fdbe0924c"
      },
      "source": [
        "input_string = input('Your list:')# Your list:1,11,111,111\n",
        "user_list  = input_string.split(',')\n",
        "user_list = [int(x) for x in user_list]\n",
        "more = []\n",
        "less = []\n",
        "for i in (user_list):\n",
        "  if i > 10:\n",
        "    more.append(i)\n",
        "  else:\n",
        "    less.append(i)\n",
        "print('Input list: ',user_list)\n",
        "print('First list: ',more)\n",
        "print('Second list: ',less)"
      ],
      "execution_count": 6,
      "outputs": [
        {
          "output_type": "stream",
          "name": "stdout",
          "text": [
            "Your list:14, -13, 0, 45, -13, 3, -5\n",
            "Input list:  [14, -13, 0, 45, -13, 3, -5]\n",
            "First list:  [14, 45]\n",
            "Second list:  [-13, 0, -13, 3, -5]\n"
          ]
        }
      ]
    },
    {
      "cell_type": "markdown",
      "metadata": {
        "id": "p4vADmeqGPox"
      },
      "source": [
        "\n",
        "\n",
        "2. Write code to count the occurrence of substring in the following list ['a', 'e','i', 'o', 'u','A', 'E','I', 'O', 'U'] from the given string using for-loop:\n",
        "\n",
        "`str_a = 'Ethereum is a decentralized, open-source blockchain with smart contract functionality. Ether is the native cryptocurrency of the platform. After Bitcoin, it is the largest cryptocurrency by market capitalization. Ethereum was invented in 2013 by programmer Vitalik Buterin. '`\n",
        "\n"
      ]
    },
    {
      "cell_type": "code",
      "source": [
        "vowels = ['a', 'e','i', 'o', 'u','A', 'E','I', 'O', 'U']\n",
        "str_a = '''Ethereum is a decentralized, open-source blockchain with smart contract functionality. Ether is the native cryptocurrency of the platform. \n",
        "After Bitcoin, it is the largest cryptocurrency by market capitalization. \n",
        "Ethereum was invented in 2013 by programmer Vitalik Buterin.'''\n",
        "\n",
        "print(vowels)\n",
        "print(str_a)\n",
        "\n",
        "#put your code here:\n",
        "counter = 0\n",
        "total = 0\n",
        "for i in vowels:\n",
        "  for letter in str_a:\n",
        "    if i == letter:\n",
        "      counter +=1\n",
        "      pass\n",
        "  print('Count of ',vowels[total],'is',counter)\n",
        "  counter = 0\n",
        "  total +=1"
      ],
      "metadata": {
        "colab": {
          "base_uri": "https://localhost:8080/"
        },
        "id": "eUf2LDwfbETv",
        "outputId": "33dcff56-07d0-477f-e8d7-af782a5d26d7"
      },
      "execution_count": 18,
      "outputs": [
        {
          "output_type": "stream",
          "name": "stdout",
          "text": [
            "['a', 'e', 'i', 'o', 'u', 'A', 'E', 'I', 'O', 'U']\n",
            "Ethereum is a decentralized, open-source blockchain with smart contract functionality. Ether is the native cryptocurrency of the platform. \n",
            "After Bitcoin, it is the largest cryptocurrency by market capitalization. \n",
            "Ethereum was invented in 2013 by programmer Vitalik Buterin.\n",
            "Count of  a is 16\n",
            "Count of  e is 23\n",
            "Count of  i is 20\n",
            "Count of  o is 12\n",
            "Count of  u is 7\n",
            "Count of  A is 1\n",
            "Count of  E is 3\n",
            "Count of  I is 0\n",
            "Count of  O is 0\n",
            "Count of  U is 0\n"
          ]
        }
      ]
    },
    {
      "cell_type": "markdown",
      "metadata": {
        "id": "uQekcLryCrGH"
      },
      "source": [
        "3. Write a Python program to prompt user to enter the list of name and find the longest name with a for-loop.\n",
        "```\n",
        "Input list: 'Adam', 'Babe', 'George', 'Britney'\n",
        "The longest name is: Britney\n",
        "```"
      ]
    },
    {
      "cell_type": "code",
      "source": [
        "name1,name2,name3,name4 = input('input list: ').split(',')\n",
        "name_list = [name1,name2,name3,name4]\n",
        "max = 0\n",
        "max_str = ''\n",
        "for i in name_list:\n",
        "  lenght = len(i)\n",
        "  if lenght > max:\n",
        "    max = len(i)\n",
        "    max_str = i\n",
        "  pass\n",
        "print('The longest name is: ',max_str)"
      ],
      "metadata": {
        "colab": {
          "base_uri": "https://localhost:8080/"
        },
        "id": "GnxzU8QUei-D",
        "outputId": "3a6dfbf9-eb32-4fb0-b865-d79791fdd812"
      },
      "execution_count": 5,
      "outputs": [
        {
          "output_type": "stream",
          "name": "stdout",
          "text": [
            "input list: 'Adam', 'Babe', 'George', 'Britney'\n",
            " 'Britney'\n"
          ]
        }
      ]
    },
    {
      "cell_type": "markdown",
      "metadata": {
        "id": "rR0L815bFwOR"
      },
      "source": [
        "4. Given two dictionary containing name and height of students from class_A and class_B as key-value pairs, write code to print out two student names from different classes (one from class_A and another from class_B)\n",
        "that their height difference is minimum \n",
        "\n",
        "```\n",
        "\tclass_A = ['Bob': 1.50, 'Alice': 1.70, 'Joe':1.55, 'Tanh': 1.80]\n",
        "\tclass_B = ['Koy': 1.87, 'Nan': 1.65, 'Love':1.58 , 'Beer': 1.45]\n",
        "\n",
        "  the closest height pair is: 'Joe' and 'Love'\n",
        "\n",
        "```\n"
      ]
    },
    {
      "cell_type": "code",
      "source": [
        "class_A = {'Bob': 1.50 , 'Alice': 1.70 , 'Joe':1.55 , 'Tanh': 1.80}\n",
        "class_B = {'Koy': 1.87 , 'Nan': 1.65 , 'Love':1.58  , 'Beer': 1.45}\n",
        "class_A_keys = list(class_A.keys())\n",
        "class_B_keys = list(class_B.keys())\n",
        "min_diff = 1\n",
        "list_diff = []\n",
        "for i in range(0,len(class_A)-1):\n",
        "  for j in range(0,len(class_B)-1):\n",
        "    diff = abs(class_A[class_A_keys[i]] - class_B[class_B_keys[j]])\n",
        "    if diff < min_diff:\n",
        "      list_diff.clear()\n",
        "      list_diff.append(class_A_keys[i])\n",
        "      list_diff.append(class_B_keys[j])\n",
        "    pass\n",
        "print(class_A)\n",
        "print(class_B)\n",
        "print('the closest height pair is: ', list_diff[0],'and',list_diff[1])"
      ],
      "metadata": {
        "colab": {
          "base_uri": "https://localhost:8080/"
        },
        "id": "8qEzU4RJhaTz",
        "outputId": "dafc08c2-4ecd-44dd-bbdb-f9de307c5d94"
      },
      "execution_count": 60,
      "outputs": [
        {
          "output_type": "stream",
          "name": "stdout",
          "text": [
            "{'Bob': 1.5, 'Alice': 1.7, 'Joe': 1.55, 'Tanh': 1.8}\n",
            "{'Koy': 1.87, 'Nan': 1.65, 'Love': 1.58, 'Beer': 1.45}\n",
            "the closest height pair is:  Joe and Love\n"
          ]
        }
      ]
    }
  ]
}